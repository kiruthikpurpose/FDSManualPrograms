{
 "cells": [
  {
   "cell_type": "code",
   "execution_count": 1,
   "metadata": {},
   "outputs": [
    {
     "name": "stdout",
     "output_type": "stream",
     "text": [
      "a    10\n",
      "b    20\n",
      "c    30\n",
      "d    40\n",
      "dtype: int64\n",
      "[10 20 30 40]\n",
      "Index(['a', 'b', 'c', 'd'], dtype='object')\n",
      "Ramu     991\n",
      "Shyam    992\n",
      "Arun     993\n",
      "dtype: int64\n",
      "    Name  Roll.No\n",
      "0   Ramu        1\n",
      "1  Shyam        2\n",
      "2   Arun        3\n"
     ]
    }
   ],
   "source": [
    "import pandas as pd\n",
    "data = pd.Series([1,6,11,777])\n",
    "data[0]\n",
    "data[1:4]\n",
    "data = pd.Series([10,20,30,40],index = ['a','b','c','d'])\n",
    "print(data)\n",
    "print(data.values)\n",
    "print(data.index)\n",
    "students_dict = {'Ramu':991,'Shyam':992,'Arun':993}\n",
    "students = pd.Series(students_dict)\n",
    "print(students)\n",
    "list1 = [['Ramu',1],['Shyam',2],['Arun',3]]\n",
    "df = pd.DataFrame(list1,columns = ['Name','Roll.No'])\n",
    "print(df)\n"
   ]
  }
 ],
 "metadata": {
  "kernelspec": {
   "display_name": "Python 3",
   "language": "python",
   "name": "python3"
  },
  "language_info": {
   "codemirror_mode": {
    "name": "ipython",
    "version": 3
   },
   "file_extension": ".py",
   "mimetype": "text/x-python",
   "name": "python",
   "nbconvert_exporter": "python",
   "pygments_lexer": "ipython3",
   "version": "3.11.9"
  }
 },
 "nbformat": 4,
 "nbformat_minor": 2
}
