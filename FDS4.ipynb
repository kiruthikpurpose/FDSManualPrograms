{
 "cells": [
  {
   "cell_type": "code",
   "execution_count": 1,
   "metadata": {},
   "outputs": [
    {
     "name": "stdout",
     "output_type": "stream",
     "text": [
      "a    10\n",
      "b    20\n",
      "c    30\n",
      "d    40\n",
      "dtype: int64\n",
      "[10 20 30 40]\n",
      "Index(['a', 'b', 'c', 'd'], dtype='object')\n",
      "Ramu     991\n",
      "Shyam    992\n",
      "Arun     993\n",
      "dtype: int64\n",
      "    Name  Roll.No\n",
      "0   Ramu        1\n",
      "1  Shyam        2\n",
      "2   Arun        3\n"
     ]
    }
   ],
   "source": [
    "import pandas as pd\n",
    "import matplotlib.pyplot as plt\n",
    "\n",
    "# Load data\n",
    "df = pd.read_csv(\"Iris_Data1.csv\")\n",
    "print(df)\n",
    "\n",
    "# Descriptive analysis on Iris Data\n",
    "print(\"\\nDescriptive analysis on Iris Data:\")\n",
    "print(\"Info:\\n\")\n",
    "print(df.info())\n",
    "print(\"\\nDescribe:\\n\")\n",
    "print(df.describe())\n",
    "print(\"\\nHead:\\n\")\n",
    "print(df.head())\n",
    "print(\"\\nSpecies count:\\n\")\n",
    "print(df['CLASS'].value_counts())\n",
    "print(\"\\nIsNull:\\n\")\n",
    "print(df.isnull().sum())\n",
    "print(\"\\nMax:\\n\")\n",
    "print(df.max())\n",
    "print(\"\\nShape:\\n\")\n",
    "print(df.shape)\n",
    "print(\"\\nSize:\\n\")\n",
    "print(df.size)\n",
    "\n",
    "# Plotting graph\n",
    "x = df['ID'].head(10)\n",
    "y = df[\"SL\"].head(10)\n",
    "plt.title(\"Bar Graph - ID vs Sepal Length\")\n",
    "plt.plot(x, y, marker=\"*\", linestyle=\"dashed\")\n",
    "plt.xlabel(\"ID\")\n",
    "plt.ylabel(\"Sepal length\")\n",
    "plt.show()\n"
   ]
  }
 ],
 "metadata": {
  "kernelspec": {
   "display_name": "Python 3",
   "language": "python",
   "name": "python3"
  },
  "language_info": {
   "codemirror_mode": {
    "name": "ipython",
    "version": 3
   },
   "file_extension": ".py",
   "mimetype": "text/x-python",
   "name": "python",
   "nbconvert_exporter": "python",
   "pygments_lexer": "ipython3",
   "version": "3.11.9"
  }
 },
 "nbformat": 4,
 "nbformat_minor": 2
}
