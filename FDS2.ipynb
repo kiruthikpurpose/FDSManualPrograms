{
 "cells": [
  {
   "cell_type": "code",
   "execution_count": 2,
   "metadata": {},
   "outputs": [
    {
     "name": "stdout",
     "output_type": "stream",
     "text": [
      "OUTPUT IS\n",
      "ONE DIMENSIONAL ARRAY IS:\n",
      " [ 1  2  3  4  5  6  7  8  9 10]\n",
      "TWO DIMENSIONAL ARRAY IS:\n",
      " [[10 20]\n",
      " [40 50]]\n",
      "THREE DIMENSIONAL ARRAY IS:\n",
      " [[10 20 30]\n",
      " [40 50 60]\n",
      " [70 80 90]]\n"
     ]
    }
   ],
   "source": [
    "import numpy as np\n",
    "\n",
    "# Creating arrays\n",
    "a = np.array([1, 2, 3, 4, 5, 6, 7, 8, 9, 10])\n",
    "print(\"OUTPUT IS\")\n",
    "print(\"ONE DIMENSIONAL ARRAY IS:\\n\", a)\n",
    "\n",
    "b = np.array([[10, 20], [40, 50]])\n",
    "print(\"TWO DIMENSIONAL ARRAY IS:\\n\", b)\n",
    "\n",
    "c = np.array([[10, 20, 30], [40, 50, 60], [70, 80, 90]])\n",
    "print(\"THREE DIMENSIONAL ARRAY IS:\\n\", c)\n"
   ]
  },
  {
   "cell_type": "code",
   "execution_count": 3,
   "metadata": {},
   "outputs": [
    {
     "name": "stdout",
     "output_type": "stream",
     "text": [
      "\n",
      "Array indexing and numpy array attributes\n",
      "x1: [45 89 64 33]\n",
      "x2 ndim: 2\n",
      "x2 shape: (3, 3)\n",
      "x2 size: 9\n"
     ]
    }
   ],
   "source": [
    "# Array indexing and attributes\n",
    "x1 = np.array([45, 89, 64, 33])\n",
    "x2 = np.array([[1, 2, 3], [4, 5, 6], [7, 8, 9]])\n",
    "print(\"\\nArray indexing and numpy array attributes\")\n",
    "print(\"x1:\", x1)\n",
    "print(\"x2 ndim:\", x2.ndim)\n",
    "print(\"x2 shape:\", x2.shape)\n",
    "print(\"x2 size:\", x2.size)"
   ]
  },
  {
   "cell_type": "code",
   "execution_count": 4,
   "metadata": {},
   "outputs": [
    {
     "name": "stdout",
     "output_type": "stream",
     "text": [
      "\n",
      "Accessing single elements\n",
      "Element at index -2 in x1: 64\n",
      "x2 before modification:\n",
      " [[1 2 3]\n",
      " [4 5 6]\n",
      " [7 8 9]]\n",
      "x2 after modification:\n",
      " [[ 1  2  3]\n",
      " [ 4  5 60]\n",
      " [ 7  8  9]]\n"
     ]
    }
   ],
   "source": [
    "# Accessing single elements\n",
    "print(\"\\nAccessing single elements\")\n",
    "print(\"Element at index -2 in x1:\", x1[-2])\n",
    "print(\"x2 before modification:\\n\", x2)\n",
    "x2[1, 2] = 60\n",
    "print(\"x2 after modification:\\n\", x2)"
   ]
  },
  {
   "cell_type": "code",
   "execution_count": 5,
   "metadata": {},
   "outputs": [
    {
     "name": "stdout",
     "output_type": "stream",
     "text": [
      "\n",
      "Array slicing\n",
      "x[5:9]: [5 6 7 8]\n",
      "x[:5]: [0 1 2 3 4]\n",
      "x[1::3]: [1 4 7]\n",
      "x2[0:2, 0:2]:\n",
      " [[1 2]\n",
      " [4 5]]\n"
     ]
    }
   ],
   "source": [
    "# Array slicing\n",
    "print(\"\\nArray slicing\")\n",
    "x = np.arange(10)\n",
    "print(\"x[5:9]:\", x[5:9])\n",
    "print(\"x[:5]:\", x[:5])\n",
    "print(\"x[1::3]:\", x[1::3])\n",
    "print(\"x2[0:2, 0:2]:\\n\", x2[0:2, 0:2])"
   ]
  },
  {
   "cell_type": "code",
   "execution_count": 6,
   "metadata": {},
   "outputs": [
    {
     "name": "stdout",
     "output_type": "stream",
     "text": [
      "\n",
      "Concatenation of arrays\n",
      "Concatenated array: [ 1  2  3  8 12 14]\n"
     ]
    }
   ],
   "source": [
    "# Concatenation of arrays\n",
    "print(\"\\nConcatenation of arrays\")\n",
    "p = np.array([1, 2, 3])\n",
    "q = np.array([8, 12, 14])\n",
    "print(\"Concatenated array:\", np.concatenate([p, q]))"
   ]
  },
  {
   "cell_type": "code",
   "execution_count": 7,
   "metadata": {},
   "outputs": [
    {
     "name": "stdout",
     "output_type": "stream",
     "text": [
      "\n",
      "Splitting of array\n",
      "Split arrays: [0 1] [2 3 4 5 6 7 8 9]\n"
     ]
    }
   ],
   "source": [
    "# Splitting of array\n",
    "print(\"\\nSplitting of array\")\n",
    "y = np.array([1, 2, 3, 99, 99, 3, 2, 1])\n",
    "d, e = np.split(x, [2])\n",
    "print(\"Split arrays:\", d, e)"
   ]
  },
  {
   "cell_type": "code",
   "execution_count": 8,
   "metadata": {},
   "outputs": [
    {
     "name": "stdout",
     "output_type": "stream",
     "text": [
      "\n",
      "Functions\n",
      "Add: [3 4 5]\n",
      "Subtract: [-1  0  1]\n",
      "Negative: [-1 -2 -3]\n",
      "Multiply: [2 4 6]\n",
      "Divide: [0.2 0.4 0.6]\n",
      "Floor divide: [0 1 1]\n",
      "Power: [1 4 9]\n",
      "Modulus: [1 0 1]\n"
     ]
    }
   ],
   "source": [
    "# Functions\n",
    "print(\"\\nFunctions\")\n",
    "t = np.array([1, 2, 3])\n",
    "print(\"Add:\", np.add(t, 2))\n",
    "print(\"Subtract:\", np.subtract(t, 2))\n",
    "print(\"Negative:\", np.negative(t))\n",
    "print(\"Multiply:\", np.multiply(t, 2))\n",
    "print(\"Divide:\", np.divide(t, 5))\n",
    "print(\"Floor divide:\", np.floor_divide(t, 2))\n",
    "print(\"Power:\", np.power(t, 2))\n",
    "print(\"Modulus:\", np.mod(t, 2))"
   ]
  },
  {
   "cell_type": "code",
   "execution_count": 9,
   "metadata": {},
   "outputs": [
    {
     "name": "stdout",
     "output_type": "stream",
     "text": [
      "\n",
      "Absolute function\n",
      "Absolute: [1 2 0 1 2]\n",
      "\n",
      "Trigonometric functions\n",
      "Sin: [0.         0.99999968 0.00159265]\n",
      "Cos: [ 1.00000000e+00  7.96326711e-04 -9.99998732e-01]\n",
      "Tan: [ 0.00000000e+00  1.25576559e+03 -1.59265494e-03]\n"
     ]
    }
   ],
   "source": [
    "# Absolute\n",
    "print(\"\\nAbsolute function\")\n",
    "print(\"Absolute:\", np.absolute([-1, -2, 0, 1, 2]))\n",
    "\n",
    "# Trigonometric functions\n",
    "print(\"\\nTrigonometric functions\")\n",
    "theta = np.array([0, 1.57, 3.14])\n",
    "print(\"Sin:\", np.sin(theta))\n",
    "print(\"Cos:\", np.cos(theta))\n",
    "print(\"Tan:\", np.tan(theta))"
   ]
  },
  {
   "cell_type": "code",
   "execution_count": 10,
   "metadata": {},
   "outputs": [
    {
     "name": "stdout",
     "output_type": "stream",
     "text": [
      "\n",
      "Exponential functions\n",
      "Exp: [1.00000000e+00 2.71828183e+00 7.38905610e+00 2.00855369e+01\n",
      " 5.45981500e+01 1.48413159e+02 4.03428793e+02 1.09663316e+03\n",
      " 2.98095799e+03 8.10308393e+03]\n",
      "Exp2: [  1.   2.   4.   8.  16.  32.  64. 128. 256. 512.]\n",
      "Power (x^3): [  0   1   8  27  64 125 216 343 512 729]\n"
     ]
    }
   ],
   "source": [
    "# Exponential functions\n",
    "print(\"\\nExponential functions\")\n",
    "print(\"Exp:\", np.exp(x))\n",
    "print(\"Exp2:\", np.exp2(x))\n",
    "print(\"Power (x^3):\", np.power(x, 3))"
   ]
  },
  {
   "cell_type": "code",
   "execution_count": 11,
   "metadata": {},
   "outputs": [
    {
     "name": "stdout",
     "output_type": "stream",
     "text": [
      "\n",
      "Logarithmic functions\n",
      "Log: [0.         2.30258509 4.60517019]\n",
      "Log2: [0.         3.32192809 6.64385619]\n",
      "Log10: [0. 1. 2.]\n"
     ]
    }
   ],
   "source": [
    "# Logarithmic functions\n",
    "print(\"\\nLogarithmic functions\")\n",
    "o = np.array([1, 10, 100])\n",
    "print(\"Log:\", np.log(o))\n",
    "print(\"Log2:\", np.log2(o))\n",
    "print(\"Log10:\", np.log10(o))"
   ]
  }
 ],
 "metadata": {
  "kernelspec": {
   "display_name": "Python 3",
   "language": "python",
   "name": "python3"
  },
  "language_info": {
   "codemirror_mode": {
    "name": "ipython",
    "version": 3
   },
   "file_extension": ".py",
   "mimetype": "text/x-python",
   "name": "python",
   "nbconvert_exporter": "python",
   "pygments_lexer": "ipython3",
   "version": "3.11.9"
  }
 },
 "nbformat": 4,
 "nbformat_minor": 2
}
