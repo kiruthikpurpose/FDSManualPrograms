{
 "cells": [
  {
   "cell_type": "code",
   "execution_count": 3,
   "metadata": {},
   "outputs": [
    {
     "name": "stdout",
     "output_type": "stream",
     "text": [
      " OUTPUT IS \n",
      "ONE DIMENSIONAL ARRAY IS:\n",
      " [ 1  2  3  4  5  6  7  8  9 10]\n",
      " TWO DIMENSIONAL ARRAY IS:\n",
      " [[10 20]\n",
      " [40 50]]\n",
      " THREE DIMENSIONAL ARRAY IS:\n",
      " [[10 20 30]\n",
      " [40 50 60]\n",
      " [70 80 90]]\n"
     ]
    }
   ],
   "source": [
    "import numpy as np\n",
    "a=np.array([1,2,3,4,5,6,7,8,9,10])\n",
    "print (\" OUTPUT IS \")\n",
    "print(\"ONE DIMENSIONAL ARRAY IS:\\n\",a)\n",
    "b=np.array([[10,20],[40,50]])\n",
    "print (\" TWO DIMENSIONAL ARRAY IS:\\n\",b)\n",
    "c=np.array([[10,20,30],[40,50,60],[70,80,90]])\n",
    "print (\" THREE DIMENSIONAL ARRAY IS:\\n\", c)\n"
   ]
  },
  {
   "cell_type": "code",
   "execution_count": 4,
   "metadata": {},
   "outputs": [
    {
     "name": "stdout",
     "output_type": "stream",
     "text": [
      "Array indexing and numpy array atributes\n",
      "[45 89 64 33]\n",
      "x2 ndim: 2\n",
      "x2 shape: (3, 3)\n",
      "x2 size: 9\n"
     ]
    }
   ],
   "source": [
    "# Array indexing and numpy array atributes\n",
    "x1 = np.array([45,89,64,33])\n",
    "x2 = np.array([[1,2,3],[4,5,6],[7,8,9]])\n",
    "print(\"Array indexing and numpy array atributes\")\n",
    "print(x1)\n",
    "print(\"x2 ndim:\",x2.ndim)\n",
    "print(\"x2 shape:\",x2.shape)\n",
    "print(\"x2 size:\",x2.size)\n"
   ]
  },
  {
   "cell_type": "code",
   "execution_count": 5,
   "metadata": {},
   "outputs": [
    {
     "name": "stdout",
     "output_type": "stream",
     "text": [
      "accessing single elements\n",
      "64\n",
      "[[1 2 3]\n",
      " [4 5 6]\n",
      " [7 8 9]]\n",
      "[[ 1  2  3]\n",
      " [ 4  5 60]\n",
      " [ 7  8  9]]\n",
      "array slicing\n",
      "[5 6 7 8]\n",
      "[0 1 2 3 4]\n",
      "[1 4 7]\n",
      "[[ 1  2  3]\n",
      " [ 4  5 60]\n",
      " [ 7  8  9]]\n",
      "[[1 2]\n",
      " [4 5]]\n"
     ]
    }
   ],
   "source": [
    "# Accessing single elements\n",
    "print(\"accessing single elements\")\n",
    "print(x1[-2])\n",
    "print(x2)\n",
    "x2[1,2] = 60\n",
    "print(x2)\n",
    "# Array slicing\n",
    "print(\"array slicing\")\n",
    "x = np.arange(10)\n",
    "print(x[5:9])\n",
    "print(x[:5])\n",
    "print(x[1::3])\n",
    "print(x2)\n",
    "print(x2[0:2,0:2])\n"
   ]
  },
  {
   "cell_type": "code",
   "execution_count": 6,
   "metadata": {},
   "outputs": [
    {
     "name": "stdout",
     "output_type": "stream",
     "text": [
      "concatenation of arrays\n",
      "[ 1  2  3  8 12 14]\n",
      "splitting of array\n",
      "[0 1] [2 3 4 5 6 7 8 9]\n",
      "Function:\n",
      "add\n",
      "[3 4 5]\n",
      "Subtract\n",
      "[-1  0  1]\n",
      "negative\n",
      "[-1 -2 -3]\n",
      "multiply\n",
      "[2 4 6]\n",
      "divide\n",
      "[0.2 0.4 0.6]\n",
      "floor divide\n",
      "[0 1 1]\n",
      "power\n",
      "[1 4 9]\n",
      "modulus\n",
      "[1 0 1]\n",
      "Absolute\n",
      "[1 2 0 1 2]\n",
      "trignometric\n",
      "[0.         0.99999968 0.00159265]\n",
      "[ 1.00000000e+00  7.96326711e-04 -9.99998732e-01]\n",
      "[ 0.00000000e+00  1.25576559e+03 -1.59265494e-03]\n",
      "Exponent\n",
      "[1.00000000e+00 2.71828183e+00 7.38905610e+00 2.00855369e+01\n",
      " 5.45981500e+01 1.48413159e+02 4.03428793e+02 1.09663316e+03\n",
      " 2.98095799e+03 8.10308393e+03]\n",
      "[  1.   2.   4.   8.  16.  32.  64. 128. 256. 512.]\n",
      "[  0   1   8  27  64 125 216 343 512 729]\n",
      "Log\n",
      "[0.         2.30258509 4.60517019]\n",
      "[0.         3.32192809 6.64385619]\n",
      "[0. 1. 2.]\n"
     ]
    }
   ],
   "source": [
    "# Concatenation of arrays\n",
    "print(\"concatenation of arrays\")\n",
    "p = np.array([1,2,3])\n",
    "q = np.array([8,12,14])\n",
    "print(np.concatenate([p,q]))\n",
    "\n",
    "# Splitting of array\n",
    "print(\"splitting of array\")\n",
    "y = [1,2,3,99,99,3,2,1]\n",
    "d,e = np.split(x,[2])\n",
    "print(d,e)\n",
    "\n",
    "# Functions\n",
    "print(\"Function:\")\n",
    "print(\"add\")\n",
    "t = np.array([1,2,3])\n",
    "print(np.add(t,2))\n",
    "print(\"Subtract\")\n",
    "print(np.subtract(t,2))\n",
    "print(\"negative\")\n",
    "print(np.negative(t))\n",
    "print(\"multiply\")\n",
    "print(np.multiply(t,2))\n",
    "print(\"divide\")\n",
    "print(np.divide(t,5))\n",
    "print(\"floor divide\")\n",
    "print(np.floor_divide(t,2))\n",
    "print(\"power\")\n",
    "print(np.power(t,2))\n",
    "print(\"modulus\")\n",
    "print(np.mod(t,2))\n",
    "\n",
    "# Absolute\n",
    "print(\"Absolute\")\n",
    "print(np.absolute([-1,-2,0,1,2]))\n",
    "\n",
    "# Trigonometric\n",
    "print(\"trignometric\")\n",
    "theta = [0,1.57,3.14]\n",
    "print(np.sin(theta))\n",
    "print(np.cos(theta))\n",
    "print(np.tan(theta))\n",
    "\n",
    "# Exponent\n",
    "print(\"Exponent\")\n",
    "print(np.exp(x))\n",
    "print(np.exp2(x))\n",
    "print(np.power(x,3))\n",
    "print(\"Log\")\n",
    "o = [1,10,100]\n",
    "print(np.log(o))\n",
    "print(np.log2(o))\n",
    "print(np.log10(o))\n"
   ]
  }
 ],
 "metadata": {
  "kernelspec": {
   "display_name": "Python 3",
   "language": "python",
   "name": "python3"
  },
  "language_info": {
   "codemirror_mode": {
    "name": "ipython",
    "version": 3
   },
   "file_extension": ".py",
   "mimetype": "text/x-python",
   "name": "python",
   "nbconvert_exporter": "python",
   "pygments_lexer": "ipython3",
   "version": "3.11.9"
  }
 },
 "nbformat": 4,
 "nbformat_minor": 2
}
