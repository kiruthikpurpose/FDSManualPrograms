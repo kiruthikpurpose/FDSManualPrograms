{
 "cells": [
  {
   "cell_type": "code",
   "execution_count": 5,
   "metadata": {},
   "outputs": [
    {
     "ename": "ModuleNotFoundError",
     "evalue": "No module named 'cartopy'",
     "output_type": "error",
     "traceback": [
      "\u001b[1;31m---------------------------------------------------------------------------\u001b[0m",
      "\u001b[1;31mModuleNotFoundError\u001b[0m                       Traceback (most recent call last)",
      "Cell \u001b[1;32mIn[5], line 2\u001b[0m\n\u001b[0;32m      1\u001b[0m \u001b[38;5;28;01mimport\u001b[39;00m \u001b[38;5;21;01mmatplotlib\u001b[39;00m\u001b[38;5;21;01m.\u001b[39;00m\u001b[38;5;21;01mpyplot\u001b[39;00m \u001b[38;5;28;01mas\u001b[39;00m \u001b[38;5;21;01mplt\u001b[39;00m\n\u001b[1;32m----> 2\u001b[0m \u001b[38;5;28;01mimport\u001b[39;00m \u001b[38;5;21;01mcartopy\u001b[39;00m\u001b[38;5;21;01m.\u001b[39;00m\u001b[38;5;21;01mcrs\u001b[39;00m \u001b[38;5;28;01mas\u001b[39;00m \u001b[38;5;21;01mccrs\u001b[39;00m\n\u001b[0;32m      4\u001b[0m \u001b[38;5;66;03m# Orthographic projection\u001b[39;00m\n\u001b[0;32m      5\u001b[0m plt\u001b[38;5;241m.\u001b[39mfigure(figsize\u001b[38;5;241m=\u001b[39m(\u001b[38;5;241m5\u001b[39m, \u001b[38;5;241m5\u001b[39m))\n",
      "\u001b[1;31mModuleNotFoundError\u001b[0m: No module named 'cartopy'"
     ]
    }
   ],
   "source": [
    "import matplotlib.pyplot as plt\n",
    "import mathplot\n",
    "import cartopy.crs as ccrs\n",
    "from cartopy.io import shapereader\n",
    "from mpl_toolkits.basemap import Basemap\n",
    "\n",
    "# Orthographic projection\n",
    "plt.figure(figsize=(5,5))\n",
    "projection=ccrs.Orthographic(central_longitude=50,central_latitude=0)\n",
    "m=Basemap()\n",
    "ax=plt.axes(projection=projection)\n",
    "ax.stock_img()\n",
    "ax.set_title('Orthographic Projection')\n",
    "plt.show()\n",
    "\n",
    "# Robinson projection\n",
    "plt.figure(figsize=(5,5))\n",
    "projection=ccrs.Robinson()\n",
    "m=Basemap()\n",
    "ax=plt.axes(projection=projection)\n",
    "ax.stock_img()\n",
    "ax.coastlines()\n",
    "ax. set_title('Robinson Projection')\n",
    "plt.show()\n",
    "\n",
    "# River projection\n",
    "plt.figure(figsize=(5,5))\n",
    "projection=ccrs.Orthographic(central_longitude=77, central_latitude=27)\n",
    "m=Basemap()\n",
    "ax=plt.axes(projection=projection)\n",
    "m.drawrivers()\n",
    "ax.coastlines()\n",
    "ax. set_title('River Projection')\n",
    "plt.show()\n",
    "\n",
    "# Blue Marble projection\n",
    "plt.figure(figsize=(5,5))\n",
    "projection=ccrs.Orthographic(central_longitude=77,central_latitude=27)\n",
    "m=Basemap()\n",
    "ax=plt.axes(projection=projection)\n",
    "m.bluemarble()\n",
    "ax.set_title('Bluemarble Projection')\n",
    "plt.show()\n",
    "\n",
    "# Shaded relief projection\n",
    "plt.figure(figsize=(5,5))\n",
    "projection=ccrs. Orthographic(central_longitude=77, central_latitude=27)\n",
    "m=Basemap()\n",
    "ax=plt.axes(projection=projection)\n",
    "m. shadedrelief()\n",
    "ax.set_title('Shaded Relief Projection')\n",
    "plt.show()\n",
    "\n",
    "# Countries boundary\n",
    "plt.figure(figsize=(5,5))\n",
    "projection=ccrs.Orthographic(central_longitude=77,central_latitude=27)\n",
    "m=Basemap()\n",
    "ax=plt.axes(projection=projection)\n",
    "m.drawcoastlines(color='blue')\n",
    "m.drawcountries(color=\"red\")\n",
    "ax. set_title('Countries Projection')\n",
    "plt.show()\n",
    "\n"
   ]
  }
 ],
 "metadata": {
  "kernelspec": {
   "display_name": "Python 3",
   "language": "python",
   "name": "python3"
  },
  "language_info": {
   "codemirror_mode": {
    "name": "ipython",
    "version": 3
   },
   "file_extension": ".py",
   "mimetype": "text/x-python",
   "name": "python",
   "nbconvert_exporter": "python",
   "pygments_lexer": "ipython3",
   "version": "3.11.9"
  }
 },
 "nbformat": 4,
 "nbformat_minor": 2
}
